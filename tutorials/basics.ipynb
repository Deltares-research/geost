{
 "cells": [
  {
   "cell_type": "markdown",
   "metadata": {},
   "source": [
    "## PySST basics tutorial\n",
    "\n",
    "We will go over some of the basic functionality of PySST. Although not all functionality\n",
    "is covered, this tutorial should get you familiar with the way PySST works. For a more\n",
    "complete overview of functionality, see to the API reference.\n",
    "\n",
    "First we point to the location of some test files that we will use in this tutorial:"
   ]
  },
  {
   "cell_type": "code",
   "execution_count": 8,
   "metadata": {},
   "outputs": [],
   "source": [
    "import os\n",
    "from pathlib import Path\n",
    "\n",
    "import pysst\n",
    "\n",
    "filepath = Path(os.getcwd())\n",
    "\n",
    "local_folder = filepath\n",
    "test_borehole_file = filepath.parent / \"tests/data/test_boreholes.parquet\"\n"
   ]
  },
  {
   "cell_type": "markdown",
   "metadata": {},
   "source": [
    "### Loading and inspecting data\n",
    "\n",
    "Data is loaded through various reader functions. In the API Reference you can find \n",
    "information on those functions and how to use them. In this example we will use the \n",
    "basic 'pysst.read_sst_cores' function to read parquet files of borehole data. You point\n",
    "to the file (test_borehole_file, see previous code block) and specify the horizontal \n",
    "and vertical reference systems (more on those later)."
   ]
  },
  {
   "cell_type": "code",
   "execution_count": 9,
   "metadata": {},
   "outputs": [],
   "source": [
    "borehole_collection = pysst.read_sst_cores(\n",
    "                                            test_borehole_file, \n",
    "                                            vertical_reference=\"NAP\", \n",
    "                                            horizontal_reference=28992\n",
    "                                        )"
   ]
  },
  {
   "cell_type": "markdown",
   "metadata": {},
   "source": [
    "PySST is programmed in an object-oriented style. In the above case 'borehole_collection'\n",
    "is an instance of a so-called 'BoreholeCollection' object. A BoreholeCollection has \n",
    "various attributes that describe what is inside the object (e.g. the borehole data \n",
    "itself and all relevant metadata). In addition it has 'methods' that allow the user to\n",
    "conduct various operations on the object.\n",
    "\n",
    "Let's print 'borehole_collection' to see what it sais:"
   ]
  },
  {
   "cell_type": "code",
   "execution_count": 10,
   "metadata": {},
   "outputs": [
    {
     "name": "stdout",
     "output_type": "stream",
     "text": [
      "BoreholeCollection:\n",
      "# header = 13\n"
     ]
    }
   ],
   "source": [
    "print(borehole_collection)"
   ]
  },
  {
   "cell_type": "markdown",
   "metadata": {},
   "source": [
    "As you can see, 'borehole_collection' is of the type 'BoreholeCollection'. \n",
    "You can view 'BoreholeCollection' as the template of what a collection of boreholes\n",
    "should look like (it is a Python class) and 'borehole_collection' as an instance of this\n",
    "template filled in this case with 13 boreholes and associated attributes. Let's see what \n",
    "these attributes are...\n",
    "\n",
    "The attribute 'header' is a table (pandas.DataFrame object) containing one line per \n",
    "borehole. It contains a minimal amount of required information for each borehole in the \n",
    "collection: the borehole ID ('nr'), x and y-coordinates, surface elevation ('mv'),\n",
    "end depth and a point geometry (required for export to GIS etc.)."
   ]
  },
  {
   "cell_type": "code",
   "execution_count": 11,
   "metadata": {},
   "outputs": [
    {
     "name": "stdout",
     "output_type": "stream",
     "text": [
      "       nr       x       y    mv   end                       geometry\n",
      "0    HB-6  127562  502816 -1.69 -5.59  POINT (127562.000 502816.000)\n",
      "1   HB-11  128866  504391 -3.82 -8.62  POINT (128866.000 504391.000)\n",
      "2    HB-8  128867  504421 -2.09 -5.99  POINT (128867.000 504421.000)\n",
      "3   HB-81  128867  504414 -3.48 -8.58  POINT (128867.000 504414.000)\n",
      "4   HB-12  129010  504400 -3.65 -8.95  POINT (129010.000 504400.000)\n",
      "5   HB-13  129135  504414 -3.56 -8.46  POINT (129135.000 504414.000)\n",
      "6   HB-04  127272  502323 -1.74 -5.54  POINT (127272.000 502323.000)\n",
      "7   HB-10  129287  504474 -3.17 -7.97  POINT (129287.000 504474.000)\n",
      "8   HB-14  129294  504441 -3.68 -9.58  POINT (129294.000 504441.000)\n",
      "9   HB-09  129129  504447 -2.90 -8.00  POINT (129129.000 504447.000)\n",
      "10  HB-01  127082  502096 -2.18 -5.88  POINT (127082.000 502096.000)\n",
      "11  HB-02  127099  502088 -2.82 -6.62  POINT (127099.000 502088.000)\n",
      "12  HB-03  127296  502338 -3.27 -6.67  POINT (127296.000 502338.000)\n"
     ]
    }
   ],
   "source": [
    "print(borehole_collection.header)"
   ]
  },
  {
   "cell_type": "markdown",
   "metadata": {},
   "source": [
    "The 'data' attribute is also a pandas.DataFrame and contains lines for every layer in \n",
    "every borehole. It therefore contains the actual description of layers in the\n",
    "boreholes as well as top and bottom elevations for each layer:"
   ]
  },
  {
   "cell_type": "code",
   "execution_count": 12,
   "metadata": {},
   "outputs": [
    {
     "name": "stdout",
     "output_type": "stream",
     "text": [
      "     nr       x       y    mv   end   top  bottom lith ad1  ad2   org   \n",
      "0  HB-6  127562  502816 -1.69 -5.59 -1.69   -2.69    K  s1  NaN  None  \\\n",
      "1  HB-6  127562  502816 -1.69 -5.59 -2.69   -3.59    K  s1  NaN    H2   \n",
      "2  HB-6  127562  502816 -1.69 -5.59 -3.59   -3.69    K  s1  NaN  None   \n",
      "3  HB-6  127562  502816 -1.69 -5.59 -3.69   -3.79    K  s1  NaN  None   \n",
      "4  HB-6  127562  502816 -1.69 -5.59 -3.79   -3.89    K  s1  NaN  None   \n",
      "\n",
      "  lith_comb  pen     T  Prik  \n",
      "0       Ks1  NaN   NaN   NaN  \n",
      "1       Ks1  NaN   NaN   NaN  \n",
      "2       Ks1  NaN  14.9  3.88  \n",
      "3       Ks1  4.3  14.3  3.97  \n",
      "4       Ks1  4.3  13.9  3.58  \n"
     ]
    }
   ],
   "source": [
    "print(borehole_collection.data.head())"
   ]
  },
  {
   "cell_type": "markdown",
   "metadata": {},
   "source": [
    "As you can see there are additional columns for the top and bottom depths of layers as \n",
    "well as observations of lithology, admixture1, admixture2, organic material and some \n",
    "field measurements."
   ]
  },
  {
   "cell_type": "markdown",
   "metadata": {},
   "source": [
    "### Positional reference systems\n",
    "\n",
    "The current vertical and horizontal reference systems used in the 'borehole_collection'\n",
    "can be accessed through the 'vertical_reference' and 'horizontal_reference' attributes: "
   ]
  },
  {
   "cell_type": "code",
   "execution_count": 13,
   "metadata": {},
   "outputs": [
    {
     "name": "stdout",
     "output_type": "stream",
     "text": [
      "NAP\n",
      "28992\n"
     ]
    }
   ],
   "source": [
    "print(borehole_collection.vertical_reference)\n",
    "print(borehole_collection.horizontal_reference)"
   ]
  },
  {
   "cell_type": "markdown",
   "metadata": {},
   "source": [
    "The vertical reference can be one of three options:\n",
    "- \"NAP\"           : Vertical positions are given in meters with respect to NAP\n",
    "- \"surfacelevel\"  : The surface level is always 0. (e.g. tops can be 0, -1, -2, -3)\n",
    "- \"depth\"         : Borehole length, starting at 0. (e.g. tops can be 0, 1, 2, 3)\n",
    "\n",
    "Horizontal reference can be any coordinate reference system. The number returned above\n",
    "(28992) is the EPSG number for the RD crs. See also https://epsg.io/\n",
    "\n",
    "You can change the vertical reference in place. Now we will change it from NAP to depth:"
   ]
  },
  {
   "cell_type": "code",
   "execution_count": 14,
   "metadata": {},
   "outputs": [
    {
     "name": "stdout",
     "output_type": "stream",
     "text": [
      "depth\n",
      "     nr       x       y    mv   end  top  bottom lith ad1  ad2   org   \n",
      "0  HB-6  127562  502816 -1.69 -5.59 -0.0     1.0    K  s1  NaN  None  \\\n",
      "1  HB-6  127562  502816 -1.69 -5.59  1.0     1.9    K  s1  NaN    H2   \n",
      "2  HB-6  127562  502816 -1.69 -5.59  1.9     2.0    K  s1  NaN  None   \n",
      "3  HB-6  127562  502816 -1.69 -5.59  2.0     2.1    K  s1  NaN  None   \n",
      "4  HB-6  127562  502816 -1.69 -5.59  2.1     2.2    K  s1  NaN  None   \n",
      "\n",
      "  lith_comb  pen     T  Prik  \n",
      "0       Ks1  NaN   NaN   NaN  \n",
      "1       Ks1  NaN   NaN   NaN  \n",
      "2       Ks1  NaN  14.9  3.88  \n",
      "3       Ks1  4.3  14.3  3.97  \n",
      "4       Ks1  4.3  13.9  3.58  \n"
     ]
    }
   ],
   "source": [
    "# Change vertical reference to depth\n",
    "borehole_collection.change_vertical_reference(\"depth\")\n",
    "\n",
    "# Show results\n",
    "print(borehole_collection.vertical_reference)\n",
    "print(borehole_collection.data.head())\n",
    "\n",
    "# Change back to NAP for the rest of this tutorial\n",
    "borehole_collection.change_vertical_reference(\"NAP\")"
   ]
  },
  {
   "cell_type": "markdown",
   "metadata": {},
   "source": [
    "Note that the layer tops and bottoms are now increasing downward.\n",
    "\n",
    "You can change the horizontal reference in a similar way:"
   ]
  },
  {
   "cell_type": "code",
   "execution_count": 15,
   "metadata": {},
   "outputs": [
    {
     "name": "stdout",
     "output_type": "stream",
     "text": [
      "32631\n",
      "      nr              x             y    mv   end   \n",
      "0   HB-6  634569.174062  5.819872e+06 -1.69 -5.59  \\\n",
      "1  HB-11  635820.288528  5.821489e+06 -3.82 -8.62   \n",
      "2   HB-8  635820.296503  5.821519e+06 -2.09 -5.99   \n",
      "3  HB-81  635820.527825  5.821512e+06 -3.48 -8.58   \n",
      "4  HB-12  635963.898270  5.821503e+06 -3.65 -8.95   \n",
      "\n",
      "                         geometry  \n",
      "0  POINT (634569.174 5819872.270)  \n",
      "1  POINT (635820.289 5821489.338)  \n",
      "2  POINT (635820.297 5821519.352)  \n",
      "3  POINT (635820.528 5821512.357)  \n",
      "4  POINT (635963.898 5821503.091)  \n"
     ]
    }
   ],
   "source": [
    "# Convert to EPSG 32631 (UTM 31N)\n",
    "borehole_collection.change_horizontal_reference(32631, only_geometries=False)\n",
    "\n",
    "# Show results (note how the coordinates changed)\n",
    "print(borehole_collection.horizontal_reference)\n",
    "print(borehole_collection.header.head())\n",
    "\n",
    "# Change back to Rijksdriehoek EPSG 28992\n",
    "borehole_collection.change_horizontal_reference(28992, only_geometries=False)"
   ]
  },
  {
   "cell_type": "markdown",
   "metadata": {},
   "source": [
    "If you would have used only_geometries=True, only the geometry column in the header \n",
    "would be updated. For loading later exports of this collection in GIS, it is sufficient\n",
    "to only update the geometry column. The columns 'x' and 'y' are unaffected in this case.\n"
   ]
  },
  {
   "cell_type": "markdown",
   "metadata": {},
   "source": [
    "### Creating selections and slices\n",
    "\n",
    "There are several ways to make subsets of a collection, such as:\n",
    "\n",
    "**Spatial selections**\n",
    "- `select_within_bbox` - Select data points in the collection within a bounding box\n",
    "- `select_with_points` - Select data points in the collection within distance from point geometries (a geopandas Dataframe)\n",
    "- `select_with_lines` - Select data points in the collection within distance from line geometries (a geopandas Dataframe)\n",
    "- `select_within_polygons` - Select data points in the collection within polygon geometries (a geopandas Dataframe)\n",
    "\n",
    "**Conditional selections**\n",
    "- `select_by_values` - Select data points in the collection based on the presence of certain values in one or more of the data columns\n",
    "- `select_by_length` - Select data points in the collection based on length requirements \n",
    "- `select_by_depth` - Select data points in the collection based on depth constraints\n",
    "\n",
    "**Slicing**\n",
    "- `slice_depth_interval` - Slice boreholes in the collection down to the specified depth interval\n",
    "- `slice_by_values` - Slice boreholes in the collection based on value (e.g. only sand layers, remove others)\n",
    "\n",
    "We won't go over all of these. Refer to the API reference on how to use these methods.\n",
    "\n",
    "Below we select boreholes within a simple bounding box, characterized by the xmin, xmax, ymin and ymax coordinates:"
   ]
  },
  {
   "cell_type": "code",
   "execution_count": 16,
   "metadata": {},
   "outputs": [
    {
     "name": "stdout",
     "output_type": "stream",
     "text": [
      "BoreholeCollection:\n",
      "# header = 8\n"
     ]
    }
   ],
   "source": [
    "# Select boreholes between x = 128600 and 130000 and y = 504000 and 505000\n",
    "selected_boreholes = borehole_collection.select_within_bbox(128600, 130000, 504000, 505000)\n",
    "\n",
    "# Show result of selection\n",
    "print(selected_boreholes)"
   ]
  },
  {
   "cell_type": "markdown",
   "metadata": {},
   "source": [
    "We selected 8 boreholes in this newly created instance 'selected_boreholes', down from \n",
    "13 in the original 'borehole_collection'.\n",
    "\n",
    "From this selection, we only want boreholes with sand. Main lithology is (for this set \n",
    "of boreholes) given in the column \"lith\". Sand is denoted by \"Z\" (Zand). We use the\n",
    "'select_by_values' method in the following way:"
   ]
  },
  {
   "cell_type": "code",
   "execution_count": 17,
   "metadata": {},
   "outputs": [
    {
     "name": "stdout",
     "output_type": "stream",
     "text": [
      "BoreholeCollection:\n",
      "# header = 7\n"
     ]
    }
   ],
   "source": [
    "# Select boreholes that contain sand (anywhere in one of the layers)\n",
    "boreholes_with_sand = selected_boreholes.select_by_values(\"lith\", \"Z\")\n",
    "\n",
    "# Show result of selection, 7 boreholes contain sand in at least one of their layers\n",
    "print(boreholes_with_sand)"
   ]
  },
  {
   "cell_type": "markdown",
   "metadata": {},
   "source": [
    "7 out of 8 boreholes are in the newly created collection 'boreholes_with_sand'. You can\n",
    "also use multiple values in conjunction with the 'how' argument to select boreholes that\n",
    "contain one of the given lithologies or all of them at the same time:"
   ]
  },
  {
   "cell_type": "code",
   "execution_count": 18,
   "metadata": {},
   "outputs": [
    {
     "name": "stdout",
     "output_type": "stream",
     "text": [
      "BoreholeCollection:\n",
      "# header = 8\n",
      "BoreholeCollection:\n",
      "# header = 7\n"
     ]
    }
   ],
   "source": [
    "# Select boreholes that contain sand OR clay (anywhere in one of the layers)\n",
    "boreholes_with_sand_or_clay = selected_boreholes.select_by_values(\"lith\", [\"Z\", \"K\"], how=\"or\")\n",
    "\n",
    "# Actually all boreholes have sand or clay as there are still 8 boreholes in the collection\n",
    "print(boreholes_with_sand_or_clay)\n",
    "\n",
    "# Select boreholes that contain sand AND clay at the same time (anywhere in one of the layers)\n",
    "boreholes_with_sand_and_clay = selected_boreholes.select_by_values(\"lith\", [\"Z\", \"K\"], how=\"and\")\n",
    "\n",
    "# 7/8 boreholes have both sand and clay in one of their layers\n",
    "print(boreholes_with_sand_and_clay)\n"
   ]
  },
  {
   "cell_type": "markdown",
   "metadata": {},
   "source": [
    "You can use select_by_length to select cores above a certain length:"
   ]
  },
  {
   "cell_type": "code",
   "execution_count": 19,
   "metadata": {},
   "outputs": [
    {
     "name": "stdout",
     "output_type": "stream",
     "text": [
      "      nr              x             y    mv   end   \n",
      "3  HB-81  128867.000094  504414.00047 -3.48 -8.58  \\\n",
      "4  HB-12  129010.000094  504400.00047 -3.65 -8.95   \n",
      "8  HB-14  129294.000094  504441.00047 -3.68 -9.58   \n",
      "9  HB-09  129129.000094  504447.00047 -2.90 -8.00   \n",
      "\n",
      "                        geometry  \n",
      "3  POINT (128867.000 504414.000)  \n",
      "4  POINT (129010.000 504400.000)  \n",
      "8  POINT (129294.000 504441.000)  \n",
      "9  POINT (129129.000 504447.000)  \n"
     ]
    },
    {
     "name": "stderr",
     "output_type": "stream",
     "text": [
      "c:\\Users\\onselen\\AppData\\Local\\miniforge3\\envs\\pysst_env\\lib\\site-packages\\geopandas\\geodataframe.py:1475: UserWarning: Boolean Series key will be reindexed to match DataFrame index.\n",
      "  result = super().__getitem__(key)\n"
     ]
    }
   ],
   "source": [
    "# Select only boreholes between 5 and 6 meters long\n",
    "boreholes_between_5_and_6_m = selected_boreholes.select_by_length(min_length=5, max_length=6)\n",
    "\n",
    "# Show result of selection, only 4 out of 8 boreholes now remain.\n",
    "print(boreholes_between_5_and_6_m.header)"
   ]
  },
  {
   "cell_type": "markdown",
   "metadata": {},
   "source": [
    "We are now left with four boreholes. As you can tell from the surface level and end depth,\n",
    "they are all between 5 and 6 m long."
   ]
  },
  {
   "cell_type": "markdown",
   "metadata": {},
   "source": [
    "### Basic analyses\n",
    "\n",
    "There are a few basic methods to analyse borehole data. Currently implemented are:\n",
    "\n",
    "**Generic**\n",
    "- `get_area_labels` - Get specified labels of polygon geometries that points in the collection project on (e.g. add labels from the geological map to boreholes)\n",
    "- `get_cumulative_layer_thickness` - Get the cumulative thickness of certain layers\n",
    "- `get_layer_top` - Get top of certain layers\n",
    "\n",
    "**Specific to BoreholeCollection**\n",
    "- `cover_layer_thickness` - Algorithm to determine the (non-permeable) cover layer thickness\n",
    "\n",
    "**Specific to CptCollection**\n",
    "- `add_ic` - Compute and add non-normalized soil behaviour type index to measurements\n",
    "- `add_lithology` - Add Robertson-Fugro classification to measurements\n",
    "\n",
    "In the following example, we'd like to know the total thickness of layers with a strong \n",
    "organic admixture in the first 5 meters of our boreholes in the 'borehole_collection' \n",
    "that we created earlier. For this we have to combine a few methods to get the desired \n",
    "results:"
   ]
  },
  {
   "cell_type": "code",
   "execution_count": 20,
   "metadata": {},
   "outputs": [
    {
     "name": "stdout",
     "output_type": "stream",
     "text": [
      "       nr              x              y    mv   end   \n",
      "0    HB-6  127562.000093  502816.000469 -1.69 -5.59  \\\n",
      "1   HB-11  128866.000094  504391.000470 -3.82 -8.62   \n",
      "2    HB-8  128867.000094  504421.000470 -2.09 -5.99   \n",
      "3   HB-81  128867.000094  504414.000470 -3.48 -8.58   \n",
      "4   HB-12  129010.000094  504400.000470 -3.65 -8.95   \n",
      "5   HB-13  129135.000094  504414.000470 -3.56 -8.46   \n",
      "6   HB-04  127272.000092  502323.000469 -1.74 -5.54   \n",
      "7   HB-10  129287.000094  504474.000470 -3.17 -7.97   \n",
      "8   HB-14  129294.000094  504441.000470 -3.68 -9.58   \n",
      "9   HB-09  129129.000094  504447.000470 -2.90 -8.00   \n",
      "10  HB-01  127082.000092  502096.000469 -2.18 -5.88   \n",
      "11  HB-02  127099.000092  502088.000469 -2.82 -6.62   \n",
      "12  HB-03  127296.000092  502338.000469 -3.27 -6.67   \n",
      "\n",
      "                         geometry  H2_thickness  \n",
      "0   POINT (127562.000 502816.000)           0.9  \n",
      "1   POINT (128866.000 504391.000)           0.0  \n",
      "2   POINT (128867.000 504421.000)           0.0  \n",
      "3   POINT (128867.000 504414.000)           0.0  \n",
      "4   POINT (129010.000 504400.000)           0.0  \n",
      "5   POINT (129135.000 504414.000)           0.0  \n",
      "6   POINT (127272.000 502323.000)           0.0  \n",
      "7   POINT (129287.000 504474.000)           0.1  \n",
      "8   POINT (129294.000 504441.000)           0.1  \n",
      "9   POINT (129129.000 504447.000)           0.0  \n",
      "10  POINT (127082.000 502096.000)           0.0  \n",
      "11  POINT (127099.000 502088.000)           0.0  \n",
      "12  POINT (127296.000 502338.000)           0.0  \n"
     ]
    }
   ],
   "source": [
    "# Since we want to know the thickness in the first 5 m with respect to surface level, \n",
    "# lets first normalize the boreholes vertically by using 'depth' as vertical reference:\n",
    "borehole_collection.change_vertical_reference(\"depth\")\n",
    "\n",
    "# Now we can easily slice off the first 5 m as follows:\n",
    "borehole_collection_sliced = borehole_collection.slice_depth_interval(upper_boundary=5)\n",
    "\n",
    "# With only the first 5 m of our boreholes in 'borehole_collection_sliced', we can now\n",
    "# get the cumulative thickness of layers that have 'H2' in the 'org' column. We will\n",
    "# also include the new data in the header our borehole collection object (otherwise it\n",
    "# only returns a dataframe with the results).\n",
    "borehole_collection_sliced.get_cumulative_layer_thickness(\"org\", \"H2\", include_in_header=True)\n",
    "\n",
    "# Show results in the updated header, which now has a 'H2_thickness' column appended to it\n",
    "print(borehole_collection_sliced.header)\n",
    "\n"
   ]
  },
  {
   "cell_type": "markdown",
   "metadata": {},
   "source": [
    "As you can see, borehole HB-6 has a total thickness of strongly organic layers of 0.9 m,\n",
    "whereas HB-10 and HB-14 have 10 cm of strongly organic material in the first 5 m below\n",
    "the surface."
   ]
  },
  {
   "cell_type": "markdown",
   "metadata": {},
   "source": [
    "### Exporting data\n",
    "\n",
    "A Borehole- or CptCollection can be exported to various formats to allow for further\n",
    "analyses and visualisation in other software or for sharing data.\n",
    "\n",
    "**Export layer data**\n",
    "- `to_parquet` - Save to parquet file. Preferred method for sharing and re-using data in PySST. This output can be read by the `read_sst_cores` and `read_sst_cpt` functions.\n",
    "- `to_csv` - Save to csv file.\n",
    "- `to_ipf` - Save to iMod point file for use in iMod-QGIS or legacy iMod 5\n",
    "- `to_vtm` - Save to vtm (multiple vtk) for 3D viewing \n",
    "- `to_datafusiontools` - Save to pickle or return object that can directly be used in Deltares DataFusionTools, see https://bitbucket.org/DeltaresGEO/datafusiontools/src/master/\n",
    "\n",
    "**Export point geometries only**\n",
    "- `to_shape` - Save point geometries to shapefile or geopackage. Fields added to the header during analysis will also be exported.\n",
    "- `to_geoparquet` - Save point geometries to geoparquet. Fields added to the header during analysis will also be exported."
   ]
  }
 ],
 "metadata": {
  "kernelspec": {
   "display_name": "pysst_env",
   "language": "python",
   "name": "python3"
  },
  "language_info": {
   "codemirror_mode": {
    "name": "ipython",
    "version": 3
   },
   "file_extension": ".py",
   "mimetype": "text/x-python",
   "name": "python",
   "nbconvert_exporter": "python",
   "pygments_lexer": "ipython3",
   "version": "3.10.9"
  },
  "orig_nbformat": 4
 },
 "nbformat": 4,
 "nbformat_minor": 2
}
