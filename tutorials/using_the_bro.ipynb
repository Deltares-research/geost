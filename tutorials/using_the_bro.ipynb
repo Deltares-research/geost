{
 "cells": [
  {
   "cell_type": "markdown",
   "metadata": {},
   "source": [
    "## geost and the BRO\n",
    "\n",
    "geost directly connects to the BRO database through an API. This allows the user to \n",
    "download BRO objects from a spatial query and apply geost functionality to the loaded\n",
    "objects. As of February 2024, BHR-P objects are supported for demonstration purposes. BHR-GT,\n",
    "BHR-G and BHR-CPT are planned.\n",
    "\n",
    "First we import geost and point towards a geopackage that we will use for selection geometries"
   ]
  },
  {
   "cell_type": "markdown",
   "metadata": {},
   "source": [
    "We can now fill a BoreholeCollection with BRO BHR-P objects located within the selection_polygon:"
   ]
  },
  {
   "cell_type": "code",
   "execution_count": null,
   "metadata": {},
   "outputs": [
    {
     "name": "stdout",
     "output_type": "stream",
     "text": [
      "Cant read a soil core\n",
      "float() argument must be a string or a real number, not 'NoneType'\n",
      "Cant read a soil core\n",
      "float() argument must be a string or a real number, not 'NoneType'\n",
      "BoreholeCollection:\n",
      "# header = 85\n",
      "\n",
      "The header looks like this:\n",
      "                nr       x       y  surface   end               geometry\n",
      "0  BHR000000003923  142069  455572     1.98  0.48  POINT (142069 455572)\n",
      "1  BHR000000004193  142172  455444     1.85  0.35  POINT (142172 455444)\n",
      "2  BHR000000008779  142052  455658     2.33  0.83  POINT (142052 455658)\n",
      "3  BHR000000009051  142244  455489     2.26  0.76  POINT (142244 455489)\n",
      "4  BHR000000021785  141967  455593     2.33  0.83  POINT (141967 455593)\n"
     ]
    }
   ],
   "source": [
    "import geost\n",
    "\n",
    "bhrp_cores = geost.get_bro_objects_from_bbox(\"BHR-P\", 141000, 142500, 455200, 456000)\n",
    "\n",
    "print(bhrp_cores)\n",
    "print('\\nThe header looks like this:')\n",
    "print(bhrp_cores.header.gdf.head())"
   ]
  },
  {
   "cell_type": "markdown",
   "metadata": {},
   "source": [
    "You can now use all the geost functionality on bhrp_cores. Let's export cores for viewing in QGIS (both points and 3D objects):"
   ]
  },
  {
   "cell_type": "code",
   "execution_count": null,
   "metadata": {},
   "outputs": [],
   "source": []
  }
 ],
 "metadata": {
  "kernelspec": {
   "display_name": "default",
   "language": "python",
   "name": "python3"
  },
  "language_info": {
   "codemirror_mode": {
    "name": "ipython",
    "version": 3
   },
   "file_extension": ".py",
   "mimetype": "text/x-python",
   "name": "python",
   "nbconvert_exporter": "python",
   "pygments_lexer": "ipython3",
   "version": "3.12.7"
  }
 },
 "nbformat": 4,
 "nbformat_minor": 2
}
