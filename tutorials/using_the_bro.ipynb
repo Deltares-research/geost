{
 "cells": [
  {
   "cell_type": "markdown",
   "metadata": {},
   "source": [
    "## PySST and the BRO\n",
    "\n",
    "PySST directly connects to the BRO database through an API. This allows the user to \n",
    "download BRO objects from a spatial query and apply PySST functionality to the loaded\n",
    "objects. As of February 2024, BHR-P objects are supported for demonstration purposes. BHR-GT,\n",
    "BHR-G and BHR-CPT are planned.\n",
    "\n",
    "First we import PySST and point towards a geopackage that we will use for selection geometries"
   ]
  },
  {
   "cell_type": "code",
   "execution_count": 1,
   "metadata": {},
   "outputs": [],
   "source": [
    "import os\n",
    "from pathlib import Path\n",
    "\n",
    "import pysst\n",
    "\n",
    "current_filepath = Path(os.getcwd())\n",
    "selection_polygon = current_filepath / \"tutorial_files/test_bhrp_select_polygon.gpkg\"\n"
   ]
  },
  {
   "cell_type": "markdown",
   "metadata": {},
   "source": [
    "We can now fill a BoreholeCollection with BRO BHR-P objects located within the selection_polygon:"
   ]
  },
  {
   "cell_type": "code",
   "execution_count": 2,
   "metadata": {},
   "outputs": [
    {
     "name": "stdout",
     "output_type": "stream",
     "text": [
      "BoreholeCollection:\n",
      "# header = 50\n",
      "\n",
      "The header looks like this:\n",
      "   index               nr       x       y    mv   end  \\\n",
      "0      0  BHR000000243189  141791  455702  2.64  1.14   \n",
      "1      2  BHR000000008779  142052  455658  2.33  0.83   \n",
      "2      3  BHR000000206185  141877  455658   2.3   0.8   \n",
      "3      5  BHR000000085903  141705  455665  2.26  0.76   \n",
      "4      8  BHR000000130091  141411  455669  2.37  0.87   \n",
      "\n",
      "                        geometry  \n",
      "0  POINT (141791.000 455702.000)  \n",
      "1  POINT (142052.000 455658.000)  \n",
      "2  POINT (141877.000 455658.000)  \n",
      "3  POINT (141705.000 455665.000)  \n",
      "4  POINT (141411.000 455669.000)  \n"
     ]
    }
   ],
   "source": [
    "bhrp_cores = pysst.get_bro_objects_from_geometry(\"BHR-P\", selection_polygon)\n",
    "\n",
    "print(bhrp_cores)\n",
    "print('\\nThe header looks like this:')\n",
    "print(bhrp_cores.header.head())"
   ]
  },
  {
   "cell_type": "markdown",
   "metadata": {},
   "source": [
    "You can now use all the PySST functionality on bhrp_cores. Let's export cores as point\n",
    "geometries for viewing in QGIS."
   ]
  },
  {
   "cell_type": "code",
   "execution_count": 3,
   "metadata": {},
   "outputs": [],
   "source": [
    "bhrp_cores.to_geoparquet(current_filepath / \"bhrp_cores.geoparquet\")"
   ]
  }
 ],
 "metadata": {
  "kernelspec": {
   "display_name": "pysst_311_experimental",
   "language": "python",
   "name": "python3"
  },
  "language_info": {
   "codemirror_mode": {
    "name": "ipython",
    "version": 3
   },
   "file_extension": ".py",
   "mimetype": "text/x-python",
   "name": "python",
   "nbconvert_exporter": "python",
   "pygments_lexer": "ipython3",
   "version": "3.11.7"
  }
 },
 "nbformat": 4,
 "nbformat_minor": 2
}
