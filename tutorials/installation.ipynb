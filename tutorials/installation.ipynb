{
    "cells": [
        {
            "cell_type": "markdown",
            "metadata": {},
            "source": [
                "Welcome to the tutorial series for the Geological Subsurface Toolbox. This Python package allows you to load boreholes and cpts from local files or directly from the BRO, select objects in various ways, conduct basic analyses and export results to a number of formats for viewing and/or further processing.\n",
                "\n",
                "The package is maintained here: https://github.com/Deltares-research/geost\n",
                "\n",
                "To install, first create a new Python 3.10 environment using e.g. Anaconda Prompt\n",
                "\n",
                "    conda create -n <name_of_env> python=3.10\n",
                "\n",
                "Activate your new environment:\n",
                "\n",
                "    conda activate <name_of_env>\n",
                "\n",
                "Clone the repository and install using pip (don't forget to add \\[all\\] behind the path):\n",
                "\n",
                "    pip install c:\\path\\to\\geost[all]\n",
                "\n",
                "If you want to go through the tutorials, also make sure that Jupyter Notebook is installed in your environment. \n",
                "\n",
                "Now check the import of gepst:"
            ]
        },
        {
            "cell_type": "code",
            "execution_count": 1,
            "metadata": {},
            "outputs": [],
            "source": [
                "import geost"
            ]
        }
    ],
    "metadata": {
        "kernelspec": {
            "display_name": "geost_dev",
            "language": "python",
            "name": "python3"
        },
        "language_info": {
            "codemirror_mode": {
                "name": "ipython",
                "version": 3
            },
            "file_extension": ".py",
            "mimetype": "text/x-python",
            "name": "python",
            "nbconvert_exporter": "python",
            "pygments_lexer": "ipython3",
            "version": "3.10.9"
        },
        "orig_nbformat": 4
    },
    "nbformat": 4,
    "nbformat_minor": 2
}