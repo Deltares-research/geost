{
 "cells": [
  {
   "cell_type": "markdown",
   "metadata": {},
   "source": [
    "Welcome to the tutorial series for the Python Subsurface Toolbox. This Python package allows you to load boreholes and cpts from local files or directly from the BRO, select objects in various ways, conduct basic analyses and export results to a number of formats for viewing and/or further processing.\n",
    "\n",
    "The package is maintained here: https://gitlab.com/deltares/tgg-projects/subsurface-toolbox/pysst\n",
    "\n",
    "To install, first create a new Python 3.10 environment using e.g. Anaconda Prompt\n",
    "\n",
    "    conda create -n <name_of_env> python=3.10\n",
    "\n",
    "Activate your new environment:\n",
    "\n",
    "    conda activate <name_of_env>\n",
    "\n",
    "Clone the repository and install using pip (don't forget to add \\[all\\] behind the path):\n",
    "\n",
    "    pip install c:\\path\\to\\pysst[all]\n",
    "\n",
    "If you want to go through the tutorials, also make sure that Jupyter Notebook is installed in your environment. \n",
    "\n",
    "Now check the import of pysst:"
   ]
  },
  {
   "cell_type": "code",
   "execution_count": 1,
   "metadata": {},
   "outputs": [],
   "source": [
    "import pysst"
   ]
  }
 ],
 "metadata": {
  "kernelspec": {
   "display_name": "pysst_dev",
   "language": "python",
   "name": "python3"
  },
  "language_info": {
   "codemirror_mode": {
    "name": "ipython",
    "version": 3
   },
   "file_extension": ".py",
   "mimetype": "text/x-python",
   "name": "python",
   "nbconvert_exporter": "python",
   "pygments_lexer": "ipython3",
   "version": "3.10.9"
  },
  "orig_nbformat": 4
 },
 "nbformat": 4,
 "nbformat_minor": 2
}
