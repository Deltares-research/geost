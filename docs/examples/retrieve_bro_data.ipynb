{
 "cells": [
  {
   "cell_type": "markdown",
   "id": "59a66a22",
   "metadata": {},
   "source": [
    "# Retrieve BRO data for a given study area\n",
    "\n",
    "This example demonstrates how you can retrieve all available BRO data with GeoST for any given study area. This can be necessary for example when you need to analyse the available subsurface data around a dike section. The dike section you need to analyse is available in a shapefile format (or any other geospatial format). This shapefile can be used to directly retrieve all the available subsurface data via the BRO REST-API. The example below briefly shows how this can be done.\n",
    "\n",
    "The BRO contains five main sources of subsurface data: \n",
    "\n",
    "- Geological boreholes (BHR-G objects)\n",
    "- Geotechnical boreholes (BHR-GT objects)\n",
    "- Pedological boreholes (BHR-P objects)\n",
    "- Cone Penetration Tests (CPT objects)\n",
    "- Pedological soilprofile descriptions (SFR objects)\n",
    "\n",
    "Any of the above data sources can be downloaded using the [`bro_api_read`](../api_reference/generated/geost.bro_api_read.rst) function that is available in GeoST. This results in GeoST `Collection` instances which hold the data and that allow for further analysis. We will begin with the necessary imports and we'll use an example dike section on the south side of the Lek river (available from GeoST). The location is shown in the interactive map below."
   ]
  },
  {
   "cell_type": "code",
   "execution_count": null,
   "id": "f52739fb",
   "metadata": {},
   "outputs": [],
   "source": [
    "from pathlib import Path\n",
    "\n",
    "import folium  # For interactive mapping purpose\n",
    "\n",
    "import geost\n",
    "\n",
    "dike_section = geost.data.dike_section()\n",
    "dike_section.explore()"
   ]
  },
  {
   "cell_type": "markdown",
   "id": "4b7c96e0",
   "metadata": {},
   "source": [
    "Let's retrieve the data from the BRO REST-API using the dike section as the geometry input for [`bro_api_read`](../api_reference/generated/geost.bro_api_read.rst):"
   ]
  },
  {
   "cell_type": "code",
   "execution_count": null,
   "id": "ced26358",
   "metadata": {},
   "outputs": [],
   "source": [
    "bhrg = geost.bro_api_read(\"BHR-G\", geometry=dike_section)\n",
    "bhrgt = geost.bro_api_read(\"BHR-GT\", geometry=dike_section)\n",
    "bhrp = geost.bro_api_read(\"BHR-P\", geometry=dike_section)\n",
    "cpt = geost.bro_api_read(\"CPT\", geometry=dike_section)\n",
    "sfr = geost.bro_api_read(\"SFR\", geometry=dike_section)\n",
    "print(\n",
    "    \"BHR-G:\", bhrg, \"BHR-GT:\", bhrgt, \"BHR-P:\", bhrp, \"CPT:\", cpt, \"SFR:\", sfr, sep=\"\\n\"\n",
    ")"
   ]
  },
  {
   "cell_type": "markdown",
   "id": "1342d8bf",
   "metadata": {},
   "source": [
    "As you can see, this resulted in [`BoreholeCollection`](../api_reference/borehole_collection.rst) instances for BHR-G, BHR-GT, BHR-P and SFR objects and a [`CptCollection`](../api_reference/cpt_collection.rst) for CPT objects and in total 154 data points around the dike section that can be used for the analysis. The location of each data source around the dike section is shown in the map below. \n",
    "\n",
    "<div class=\"alert alert-info\">\n",
    "Note that due to limitations of the BRO REST API, we always use the smallest bounding box (total bounds) around a given geometry to retrieve BRO objects. If required, use selection methods of the above collections such as `select_with_lines`, `select_with_points` and `select_within_polygons` to further narrow down the BRO objects.  \n",
    "</div>"
   ]
  },
  {
   "cell_type": "code",
   "execution_count": null,
   "id": "e094df79",
   "metadata": {},
   "outputs": [],
   "source": [
    "m = bhrg.header.gdf.explore(name=\"BHR-G\")\n",
    "bhrgt.header.gdf.explore(m=m, color=\"black\", name=\"BHR-GT\")\n",
    "bhrp.header.gdf.explore(m=m, color=\"brown\", name=\"BHR-P\")\n",
    "cpt.header.gdf.explore(m=m, color=\"red\", name=\"CPT\")\n",
    "sfr.header.gdf.explore(m=m, color=\"green\", name=\"SFR\")\n",
    "dike_section.explore(m=m, name=\"Dike Section\")\n",
    "folium.LayerControl(collapsed=False).add_to(m)\n",
    "m"
   ]
  },
  {
   "cell_type": "markdown",
   "id": "45b41801",
   "metadata": {},
   "source": [
    "Downloading data via the BRO REST-API returns XML objects for each download. GeoST reads these XML objects using predefined schemas that describe the XML structure. The [`bro_api_read`](../api_reference/generated/geost.bro_api_read.rst) for now only extracts basic data attributes, checkout each `Collection` object to see what data is retrieved. If additional data is desired, the predefined schemas can be extended to retrieve the additional data. See the [User guide](../user_guide/read_xml.ipynb) for detailed instructions how to use GeoST to extract information from XML objects."
   ]
  }
 ],
 "metadata": {
  "kernelspec": {
   "display_name": "default",
   "language": "python",
   "name": "python3"
  },
  "language_info": {
   "codemirror_mode": {
    "name": "ipython",
    "version": 3
   },
   "file_extension": ".py",
   "mimetype": "text/x-python",
   "name": "python",
   "nbconvert_exporter": "python",
   "pygments_lexer": "ipython3",
   "version": "3.13.5"
  }
 },
 "nbformat": 4,
 "nbformat_minor": 5
}
