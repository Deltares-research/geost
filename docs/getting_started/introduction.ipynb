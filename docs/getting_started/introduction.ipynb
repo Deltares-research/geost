{
 "cells": [
  {
   "cell_type": "markdown",
   "metadata": {},
   "source": [
    "# Introduction to GeoST\n",
    "\n",
    "This quick introduction will cover some of the key concepts and basic features of `GeoST` to help you get started. `GeoST` depends heavily on popular data science libraries [Pandas](https://pandas.pydata.org/docs/index.html) and [GeoPandas](https://geopandas.org/en/stable/index.html) but `GeoST` provides readily available, frequently used selections on data held in [DataFrame](https://pandas.pydata.org/docs/reference/api/pandas.DataFrame.html#pandas.DataFrame) or [GeoDataFrame](https://geopandas.org/en/stable/docs/reference/api/geopandas.GeoDataFrame.html#geopandas.GeoDataFrame) objects. This makes GeoST an easy to use option for less experienced Python users while more experienced users can easily access the underlying DataFrames and develop their own functionalities.\n",
    "\n",
    "GeoST is designed to work with many different kinds of subsurface data that is available in The Netherlands but, even though still under construction, it will be handle any kind of subsurface data. Below is a list of different data sources which are currently supported or will be supported by GeoST in the future:\n",
    "\n",
    "- Tabular\n",
    "    - Dino geological boreholes (supported)\n",
    "    - BRO CPT data (supported)\n",
    "- File Formats/\n",
    "    - GEF CPT's (supported)\n",
    "    - Dino XML geological boreholes (planned)\n",
    "    - BRO XML geotechnical boreholes (planned)\n",
    "    - BRO XML soil boreholes (planned)\n",
    "    - GEF boreholes (planned)\n",
    "    - BRO XML CPT's (planned)\n",
    "    - BRO geopackage CPT's (planned)\n",
    "    - Well log LAS files (planned)\n",
    "    - Well log ASCII files (planned)\n",
    "- Accessible from the BRO (REST API) (all planned)\n",
    "    - CPT\n",
    "    - BHR-P\n",
    "    - BHR-GT\n",
    "    - BHR-G\n",
    "- BRO Geological models\n",
    "    - GeoTOP (supported)\n",
    "    - REGIS II (planned)\n",
    "    - Soilmap of the Netherlands (planned)\n",
    "\n",
    "GeoST also plans support for several Geophysical data sources such as Seismic, ERT, EM and others.\n",
    "\n",
    "## Concept\n",
    "At the core, `GeoST` handles data in so-called `Collection` objects which holds all the spatial information of any kind of data source in **header objects** , and the corresponding data in **data objects**. So for example, a set of 100 boreholes is held in a `BoreholeCollection` where the **header** contains one row per data entry and provides information about the id, location, surface level and depths and the **data** has the information of each described layer. When working with these `Collections`, GeoST automatically keeps track of the alignment and thus makes sure each data entry occurs in both the `Header` and `Data` object. For example, when a user deletes an individual **borehole** entry from a `Header`, the `Collection` ensures it is deleted from the `Data` as well.  \n",
    "\n",
    "> [!TIP]\n",
    "> For a more detailed explanation of the types of GeoST objects for different sources of data, check the \n",
    "> [Data structures](../user_guide/data_structures.md) in the user guide."
   ]
  },
  {
   "cell_type": "code",
   "execution_count": null,
   "metadata": {},
   "outputs": [],
   "source": [
    "import geost\n",
    "\n",
    "geost"
   ]
  }
 ],
 "metadata": {
  "kernelspec": {
   "display_name": "default",
   "language": "python",
   "name": "python3"
  },
  "language_info": {
   "name": "python",
   "version": "3.12.7"
  }
 },
 "nbformat": 4,
 "nbformat_minor": 2
}
