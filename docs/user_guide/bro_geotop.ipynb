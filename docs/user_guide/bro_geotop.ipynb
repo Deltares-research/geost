{
 "cells": [
  {
   "cell_type": "markdown",
   "metadata": {},
   "source": [
    "# BRO GeoTop\n",
    "\n",
    "GeoST provides support to work with models that are provided by the [BRO](https://www.broloket.nl/ondergrondmodellen/kaart) such as GeoTOP. This section will explain the usage of [`GeoTop`](../api_reference/bro_geotop.rst), how to make easy selections and combinations with for example borehole data contained in `BoreholeCollections`."
   ]
  }
 ],
 "metadata": {
  "language_info": {
   "name": "python"
  }
 },
 "nbformat": 4,
 "nbformat_minor": 2
}
