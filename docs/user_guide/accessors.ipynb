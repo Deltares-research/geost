{
 "cells": [
  {
   "cell_type": "markdown",
   "id": "bf2bcb02",
   "metadata": {},
   "source": [
    "# GeoST Accessors\n",
    "This page briefly goes into more detail about the header and data accessors available for\n",
    "Geopandas GeoDataFrames and Pandas DataFrames as shown on the [previous page](./data_structures.ipynb#geost_accessors). For header GeoDataFrames the [`.gsthd`](../api_reference/header_accessors.rst)\n",
    "accessor is available and for data DataFrames the [`.gstda`](../api_reference/data_accessors.rst)\n",
    "is available. For these accessors to work, the GeoDataFrame or DataFrame must meet some criteria\n",
    "which will be explained below. Additionally, we will provide some details about how they\n",
    "work with several data sources for a better understanding on their use and functionality.\n",
    "\n",
    "We will use the GeoST borehole and CPT sample data for this exaplanation.\n"
   ]
  },
  {
   "cell_type": "code",
   "execution_count": 3,
   "id": "4c531e7d",
   "metadata": {},
   "outputs": [
    {
     "name": "stdout",
     "output_type": "stream",
     "text": [
      "\n",
      "NOTE: Header has been reset to align with data because AUTO_ALIGN is enabled in the GeoST configuration.\n"
     ]
    },
    {
     "name": "stderr",
     "output_type": "stream",
     "text": [
      "C:\\src\\geost\\geost\\base.py:307: AlignmentWarning: Header covers more/other objects than present in the data table. consider running the method 'reset_header' to update the header.\n",
      "  warnings.warn(\n"
     ]
    }
   ],
   "source": [
    "import geost\n",
    "\n",
    "geost.config.validation.VERBOSE = False  # Ignore validation warning in CPTs\n",
    "\n",
    "# Load sample data\n",
    "cores = geost.data.boreholes_usp()\n",
    "cpts = geost.data.cpts_usp()\n",
    "\n",
    "# Separate header and data tables\n",
    "cores_header, cores_data = cores.header, cores.data\n",
    "cpts_header, cpts_data = cpts.header, cpts.data"
   ]
  },
  {
   "cell_type": "markdown",
   "id": "901dc456",
   "metadata": {},
   "source": [
    "## Header `.gsthd` accessor\n",
    "The [`.gsthd`](../api_reference/header_accessors.rst) only works on Geopandas GeoDataFrames\n",
    "which is related to different types of subsurface data. Typically available types of subsurface\n",
    "data comprise point-like data such as boreholes, cpts, well logs and line-like data such as\n",
    "seismics, GPR, EM. This means that the location of different types of surveys in some cases\n",
    "are represented by a point and others by a line. In the design, GeoST aims to be as consistent\n",
    "as possible with creating methods (e.g. `select_within_bbox`, `select_with_points`) but under\n",
    "the hood, some methods may need to work slightly different based on the type of geometry.\n",
    "\n",
    "The `.gsthd` accessor automatically resolves the above problem and figures out the correct method\n",
    "based on the datatype in the \"geometry\" column of a GeoDataFrame. This is done by determining\n",
    "the geometry type of the first row in the GeoDataFrame and selecting the required backend:\n",
    "for instance a [`PointHeader`](../api_reference/header_accessors.rst#pointheader) in case of\n",
    "point data and [`LineHeader`](../api_reference/data_accessors.rst#lineheader) in case of line\n",
    "data. To illustrate this, we will stepwise show how this works the loaded `cores_header`.\n",
    "\n",
    "Let's first check the geometry type in the header table and see what happens when simply\n",
    "use the `.gsthd` attribute."
   ]
  },
  {
   "cell_type": "code",
   "execution_count": null,
   "id": "fc49650d",
   "metadata": {},
   "outputs": [
    {
     "name": "stdout",
     "output_type": "stream",
     "text": [
      "0    Point\n",
      "1    Point\n",
      "2    Point\n",
      "3    Point\n",
      "4    Point\n",
      "dtype: object\n"
     ]
    },
    {
     "data": {
      "text/plain": [
       "<geost.accessors.accessor.Header at 0x2120b716120>"
      ]
     },
     "execution_count": 7,
     "metadata": {},
     "output_type": "execute_result"
    }
   ],
   "source": [
    "print(cores_header.geom_type.head())  # Only print the first 5 rows\n",
    "cores_header.gsthd"
   ]
  },
  {
   "cell_type": "markdown",
   "id": "80d7b7bc",
   "metadata": {},
   "source": [
    "As you can see, the geometry type is \"Point\" and calling the `.gsthd` attribute prints a\n",
    "`geost.accessors.accessor.Header` instance. This is a generic class where the correct backend\n",
    "is chosen based on the geometry type. Since the geometry type is \"Point\" we expect that the\n",
    "chosen backend is a `PointHeader`. We can check this by checking the resulting backend."
   ]
  },
  {
   "cell_type": "code",
   "execution_count": 8,
   "id": "86c33b92",
   "metadata": {},
   "outputs": [
    {
     "data": {
      "text/plain": [
       "<geost.accessors.header.PointHeader at 0x2120b5defd0>"
      ]
     },
     "execution_count": 8,
     "metadata": {},
     "output_type": "execute_result"
    }
   ],
   "source": [
    "cores_header.gsthd._backend"
   ]
  },
  {
   "cell_type": "markdown",
   "id": "85d9a982",
   "metadata": {},
   "source": [
    "We see that the backend indeed is a `PointHeader` instance. This makes sure that each called\n",
    "method when using the accessor is dispatched to the PointHeader instance."
   ]
  },
  {
   "cell_type": "markdown",
   "id": "0e1c46d0",
   "metadata": {},
   "source": [
    "## Data `.gstda` accessor"
   ]
  }
 ],
 "metadata": {
  "kernelspec": {
   "display_name": "default",
   "language": "python",
   "name": "python3"
  },
  "language_info": {
   "codemirror_mode": {
    "name": "ipython",
    "version": 3
   },
   "file_extension": ".py",
   "mimetype": "text/x-python",
   "name": "python",
   "nbconvert_exporter": "python",
   "pygments_lexer": "ipython3",
   "version": "3.13.5"
  }
 },
 "nbformat": 4,
 "nbformat_minor": 5
}
