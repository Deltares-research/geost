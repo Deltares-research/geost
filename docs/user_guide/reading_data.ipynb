{
 "cells": [
  {
   "cell_type": "markdown",
   "metadata": {},
   "source": [
    "# Reading data\n",
    "GeoST offer various functions to read and parse data to GeoST data objects. Generally \n",
    "speaking, data can either be loaded from (local) files or is requested from a service\n",
    "like the BRO. The raw data is then parsed to a GeoST data object such as a\n",
    "[`BoreholeCollection`](api_reference/borehole_collection.rst) or `CptCollection` to \n",
    "which all GeoST features can be applied. \n",
    "\n",
    "In the current state of this package there is a limited number of local file formats and\n",
    "services supported. These are:\n",
    "\n",
    "| File format/data service      | Read function         | Description                                                                   |\n",
    "| ----------------------------- | --------------------- | ----------------------------------------------------------------------------- |    \n",
    "| GeoST parquet or csv          | `read_borehole_data`  | GeoST native format. Result of to_parquet or to_csv exports.                  |\n",
    "| NLOG excel export             | `read_nlog_cores`     | Reader for NLOG deep cores, see [here](https://www.nlog.nl/boringen).         |\n",
    "\n",
    "\n"
   ]
  }
 ],
 "metadata": {
  "language_info": {
   "name": "python"
  }
 },
 "nbformat": 4,
 "nbformat_minor": 2
}
