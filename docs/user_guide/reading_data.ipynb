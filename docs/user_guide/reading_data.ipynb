{
 "cells": [
  {
   "cell_type": "markdown",
   "metadata": {},
   "source": [
    "# Reading data\n",
    "GeoST offer various functions to read and parse data to GeoST data objects. Generally \n",
    "speaking, data can either be loaded from (local) files or is requested from a service\n",
    "like the BRO. The raw data is then parsed to a GeoST data object such as a\n",
    "[`BoreholeCollection`](../api_reference/borehole_collection.rst) or [`CptCollection`](../api_reference/cpt_collection.rst).\n",
    "\n",
    "In the current state of this package there is a limited number of local file formats and\n",
    "services supported. The below tables are up-to-date with the currently supported data sources.\n",
    "\n",
    "\n",
    "## Subsurface point data\n",
    "By subsurface point data we mean layered data (e.g. boreholes) or discrete/measurement \n",
    "data (e.g. well logs) along the vertical axis (depth with respect to datum) at a single point (geographic lat/lon)\n",
    "\n",
    "| File format/data service | Read function  | Returned GeoST object | Description  |\n",
    "| ------------------------ | -------------- | --------------------- | -----------  |    \n",
    "| GeoST borehole parquet or csv | [`read_borehole_table`](../api_reference/generated/geost.read_borehole_table.rst) | [`BoreholeCollection`](../api_reference/borehole_collection.rst) or [`LayeredData`](../api_reference/layered_data.rst) | GeoST native format. Result of to_parquet or to_csv exports. \n",
    "| GeoST CPT parquet or csv | [`read_cpt_table`](../api_reference/generated/geost.read_cpt_table.rst) | [`CptCollection`](../api_reference/cpt_collection.rst) or [`DiscreteData`](../api_reference/discrete_data.rst) | GeoST native format. Result of to_parquet or to_csv exports. |\n",
    "| NLOG excel export | [`read_nlog_cores`](../api_reference/generated/geost.read_nlog_cores.rst) | [`BoreholeCollection`](../api_reference/borehole_collection.rst) or [`LayeredData`](../api_reference/layered_data.rst) | Reader for NLOG deep cores, see [here](https://www.nlog.nl/boringen). |\n",
    "| UU LLG cores | [`read_uullg_tables`](../api_reference/generated/geost.read_uullg_tables.rst) | [`BoreholeCollection`](../api_reference/borehole_collection.rst) or [`LayeredData`](../api_reference/layered_data.rst) | Reader for csv distribution of Utrecht University student boreholes. |\n",
    "| BORIS XML | [`read_xml_boris`](../api_reference/generated/geost.read_xml_boris.rst) | [`BoreholeCollection`](../api_reference/borehole_collection.rst) or [`LayeredData`](../api_reference/layered_data.rst) | Reader for XML exports of the BORIS borehole description software. |\n",
    "| GEF CPTs | [`read_gef_cpts`](../api_reference/generated/geost.read_gef_cpts.rst) | [`CptCollection`](../api_reference/cpt_collection.rst) or [`DiscreteData`](../api_reference/discrete_data.rst) | Reader for GEF CPT files. |\n",
    "| BRO BHR-P | [`get_bro_objects_from_bbox`](../api_reference/generated/geost.get_bro_objects_from_bbox.rst) or [`get_bro_objects_from_geometry`](../api_reference/generated/geost.get_bro_objects_from_geometry.rst)| [`BoreholeCollection`](../api_reference/borehole_collection.rst) or [`LayeredData`](../api_reference/layered_data.rst) | BRO soil cores as distributed through the BRO |\n",
    "\n",
    "## Subsurface model data\n",
    "By subsurface model data we mean voxel models (such as GeoTOP) or layer models\n",
    "(such as REGIS)\n",
    "\n",
    "| File format/data service | Read function  | Returned GeoST object | Description  |\n",
    "| ------------------------ | -------------- | --------------------- | -----------  |  \n",
    "| Generic Voxelmodel |\n",
    "| GeoTOP | "
   ]
  }
 ],
 "metadata": {
  "language_info": {
   "name": "python"
  }
 },
 "nbformat": 4,
 "nbformat_minor": 2
}
