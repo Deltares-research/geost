{
 "cells": [
  {
   "cell_type": "markdown",
   "metadata": {},
   "source": [
    "# Reading data\n",
    "GeoST offer various functions to read and parse data to GeoST objects. Generally speaking,\n",
    "data can either be loaded from (local) files or is requested from a service like the BRO\n",
    "REST-API. The raw data is then parsed to a GeoST data object such as a\n",
    "[`BoreholeCollection`](../api_reference/borehole_collection.rst) or [`CptCollection`](../api_reference/cpt_collection.rst).\n",
    "\n",
    "## Supported subsurface data\n",
    "GeoST supports data coming from several data sources and file formats. The tables below list the currently supported data sources, associated reader functions and resulting GeoST objects.\n",
    "\n",
    "### Subsurface data\n",
    "By subsurface point data we mean layered data (e.g. boreholes) or discrete/measurement \n",
    "data (e.g. CPT, well logs) along the vertical axis (depth with respect to datum) at a single \n",
    "point (geographic lat/lon).\n",
    "\n",
    "| File format/data service | Read function  | Returned GeoST object | Description  |\n",
    "| ------------------------ | -------------- | --------------------- | -----------  |    \n",
    "| BHR-G | [`read_bhrg`](../api_reference/generated/geost.read_bhrg.rst) | [`BoreholeCollection`](../api_reference/borehole_collection.rst) | (BRO) Geological boreholes from xml |\n",
    "| BHR-GT | [`read_bhrgt`](../api_reference/generated/geost.read_bhrgt.rst) | [`BoreholeCollection`](../api_reference/borehole_collection.rst) | (BRO) Geotechnical boreholes from xml |\n",
    "| BHR-P | [`read_bhrp`](../api_reference/generated/geost.read_bhrp.rst) | [`BoreholeCollection`](../api_reference/borehole_collection.rst) | (BRO) Pedological boreholes from xml |\n",
    "| CPT | [`read_cpt`](../api_reference/generated/geost.read_cpt.rst) [`read_gef_cpts`](../api_reference/generated/geost.read_gef_cpts.rst) | [`CptCollection`](../api_reference/cpt_collection.rst) | (BRO) Cone Penetration Tests from xml or gef |\n",
    "| SFR | [`read_sfr`](../api_reference/generated/geost.read_sfr.rst) | [`BoreholeCollection`](../api_reference/borehole_collection.rst) | (BRO) Pedological soilprofile descriptions from xml |\n",
    "| BRO REST-API | [`bro_api_read`](../api_reference/generated/geost.bro_api_read.rst) | [`BoreholeCollection`](../api_reference/borehole_collection.rst) or [`CptCollection`](../api_reference/cpt_collection.rst) | BRO BHR-G, BHR-GT, BHR-P, CPT or SFR objects |\n",
    "| GeoST borehole parquet or csv | [`read_borehole_table`](../api_reference/generated/geost.read_borehole_table.rst) | [`BoreholeCollection`](../api_reference/borehole_collection.rst) or [`LayeredData`](../api_reference/layered_data.rst) | GeoST native format. Result of to_parquet or to_csv exports \n",
    "| GeoST CPT parquet or csv | [`read_cpt_table`](../api_reference/generated/geost.read_cpt_table.rst) | [`CptCollection`](../api_reference/cpt_collection.rst) or [`DiscreteData`](../api_reference/discrete_data.rst) | GeoST native format. Result of to_parquet or to_csv exports |\n",
    "| NLOG excel export | [`read_nlog_cores`](../api_reference/generated/geost.read_nlog_cores.rst) | [`BoreholeCollection`](../api_reference/borehole_collection.rst) or [`LayeredData`](../api_reference/layered_data.rst) | Reader for NLOG deep cores, see [here](https://www.nlog.nl/boringen) |\n",
    "| UU LLG cores | [`read_uullg_tables`](../api_reference/generated/geost.read_uullg_tables.rst) | [`BoreholeCollection`](../api_reference/borehole_collection.rst) or [`LayeredData`](../api_reference/layered_data.rst) | Reader for csv distribution of Utrecht University student boreholes |\n",
    "| BORIS XML | [`read_xml_boris`](../api_reference/generated/geost.read_xml_boris.rst) | [`BoreholeCollection`](../api_reference/borehole_collection.rst) or [`LayeredData`](../api_reference/layered_data.rst) | Reader for XML exports of the BORIS borehole description software |\n",
    "\n",
    "\n",
    "### Subsurface model data\n",
    "By subsurface model data we mean voxel models (such as GeoTOP) or layer models\n",
    "(such as REGIS).\n",
    "\n",
    "| File format/data service | Read function  | Returned GeoST object | Description  |\n",
    "| ------------------------ | -------------- | --------------------- | -----------  |  \n",
    "| Generic Voxelmodel | [`VoxelModel`](../api_reference/generated/geost.models.VoxelModel.rst) | [`VoxelModel`](../api_reference/voxelmodel.rst) | Generic reader for a voxelmodel presented in NetCDF format (readable as xarray dataset) |\n",
    "| GeoTOP NetCDF | [`GeoTop.from_netcdf`](../api_reference/generated/geost.bro.bro_geotop.GeoTop.from_netcdf.rst) | [`VoxelModel`](../api_reference/voxelmodel.rst) | Reader for GeoTOP NetCDF distribution |\n",
    "| GeoTOP OpenDAP| [`GeoTop.from_opendap`](../api_reference/generated/geost.bro.bro_geotop.GeoTop.from_opendap.rst) | [`VoxelModel`](../api_reference/voxelmodel.rst) | Reader for GeoTOP OpenDAP distribution |\n",
    "\n",
    "## Data reading examples"
   ]
  },
  {
   "cell_type": "code",
   "execution_count": null,
   "metadata": {},
   "outputs": [],
   "source": [
    "import geost\n",
    "\n",
    "# Read a few BRO soil cores in a small area\n",
    "boreholes = geost.bro_api_read(\"BHR-P\", bbox=(141_470, 455_000, 141_700, 455_300))\n",
    "\n",
    "print(type(boreholes))\n",
    "boreholes.header"
   ]
  },
  {
   "cell_type": "code",
   "execution_count": null,
   "metadata": {},
   "outputs": [],
   "source": [
    "from geost.bro import GeoTop\n",
    "\n",
    "# Get corresponding voxels of the GeoTOP model\n",
    "geotop = GeoTop.from_opendap(bbox=(141_470, 455_000, 141_700, 455_300))\n",
    "\n",
    "geotop"
   ]
  }
 ],
 "metadata": {
  "kernelspec": {
   "display_name": "default",
   "language": "python",
   "name": "python3"
  },
  "language_info": {
   "codemirror_mode": {
    "name": "ipython",
    "version": 3
   },
   "file_extension": ".py",
   "mimetype": "text/x-python",
   "name": "python",
   "nbconvert_exporter": "python",
   "pygments_lexer": "ipython3",
   "version": "3.13.5"
  }
 },
 "nbformat": 4,
 "nbformat_minor": 2
}
